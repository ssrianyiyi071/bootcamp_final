{
  "nbformat": 4,
  "nbformat_minor": 0,
  "metadata": {
    "colab": {
      "provenance": []
    },
    "kernelspec": {
      "name": "python3",
      "display_name": "Python 3"
    },
    "language_info": {
      "name": "python"
    }
  },
  "cells": [
    {
      "cell_type": "markdown",
      "source": [
        "# Predicting High‑Income (> $50K) in the Adult Dataset"
      ],
      "metadata": {
        "id": "9w-qmP_W2g_4"
      }
    },
    {
      "cell_type": "markdown",
      "source": [
        "## Introduction to Problem & Data"
      ],
      "metadata": {
        "id": "GwigNpEA2plr"
      }
    },
    {
      "cell_type": "markdown",
      "source": [
        "#### **Problem Statement**:\n",
        "\n",
        "Accurately classifying individuals as high‑income earners (annual income > $50,000) is pivotal not only for socioeconomic research and policy design, but also for shaping the career trajectories of students like me. As I navigate college life—juggling rigorous coursework, part‑time work, and internship applications—knowing which factors truly influence salary outcomes brings clarity to my own decision‑making. Should I invest extra time in a demanding major? Would pursuing a graduate degree or specialized certifications yield a meaningful return? This project offers data‑driven insights to answer these questions. Beyond academic fulfillment, these findings help me and my peers make data‑driven decisions about future pathways.\n",
        "\n",
        "In this analysis, I leverage the UCI Adult dataset to build and compare classification models that predict whether an individual earns more than $50K per year based on a suite of demographic, educational, and occupational attributes. By systematically exploring and modeling these factors, I gain hands‑on experience with end‑to‑end data science workflows—skills that will bolster my resume and portfolio for future employers. More importantly, this work equips me and my peers with evidence on how investments in education, work habits, and financial decisions can translate into tangible income differences.\n",
        "\n",
        "Concretely, my goals include:\n",
        "\n",
        "**Identifying Key Drivers**: Uncover which attributes—such as education level, hours worked per week, or capital gains—most strongly predict high earnings. These insights can inform my decisions about double‑majoring, seeking part‑time roles, or even experimenting with small‑scale investments.\n",
        "\n",
        "**Model Comparison**: Evaluate a variety of algorithms (Logistic Regression, Decision Trees, Random Forests, K‑Nearest Neighbors) to determine not just which predictor variables matter, but how different modeling approaches perform on realistic socio‑economic data. This deepens my understanding of algorithm strengths and limitations in a context that mirrors real‑world business analytics.\n",
        "\n",
        "**Fairness and Equity Considerations**: Assess model performance across subgroups (gender, race, etc.) to raise awareness of potential biases—an essential perspective for any data scientist committed to ethical practice.\n",
        "\n",
        "\n",
        "Through this project, I not only refine my technical skills in Python, scikit‑learn, and data visualization, model training, but also develop a richer understanding of how personal and socioeconomic choices intersect. The rest of this report details the data, analytic methods, results, and actionable next steps for translating these findings into career and financial planning strategies."
      ],
      "metadata": {
        "id": "1onmtxsPwmWD"
      }
    },
    {
      "cell_type": "markdown",
      "source": [
        "# 2. Data Description"
      ],
      "metadata": {
        "id": "cQXkcQFJ5gKP"
      }
    },
    {
      "cell_type": "markdown",
      "source": [
        "**2.1 Source and Collection**\n",
        "\n",
        "My analysis is grounded in the Adult dataset, originally derived from the 1994 5% Public Use Microdata Sample of the U.S. Census Bureau and made accessible by the UCI Machine Learning Repository. This rich resource comprises 48,842 anonymized records spanning 15 socioeconomic attributes—including demographics, education, work habits, and financial indicators—capturing a nuanced snapshot of the mid‑1990s American labor force.\n",
        "\n",
        "While the dataset’s breadth enables robust modeling of income determinants, it also embodies historical biases in race, gender, and regional representation. A small fraction of entries (<1.5%) contain missing values denoted by “?”, primarily in workclass, occupation, and native‑country fields. We chose to remove these records to preserve the fidelity of categorical encodings, with the understanding that this step may underrepresent certain minority subgroups.\n",
        "\n",
        "Data ingestion proceeded via direct CSV download from the UCI repository (https://archive.ics.uci.edu/ml/datasets/Adult). After initial validation and deduplication, I performed an 80/20 stratified split—ensuring proportional representation of the income labels—to create training and hold‑out sets. This careful curation lays the foundation for reproducible modeling and fair evaluation of classification performance."
      ],
      "metadata": {
        "id": "o3Up9wbZ5baW"
      }
    },
    {
      "cell_type": "markdown",
      "source": [
        "**2.2 Attributes and Types**\n",
        "\n",
        "The dataset includes both numerical and categorical features:"
      ],
      "metadata": {
        "id": "Qr4EK0rb593y"
      }
    },
    {
      "cell_type": "markdown",
      "source": [
        "#### 2.3 Data Pre-Processing & Preliminary Examination:"
      ],
      "metadata": {
        "id": "p8PZcdPq63e-"
      }
    },
    {
      "cell_type": "code",
      "source": [
        "import pandas as pd\n",
        "import numpy as np\n",
        "import matplotlib.pyplot as plt\n",
        "import seaborn as sns\n",
        "import requests\n",
        "import os"
      ],
      "metadata": {
        "id": "4PjRUVhL6-s7"
      },
      "execution_count": 1,
      "outputs": []
    },
    {
      "cell_type": "code",
      "execution_count": 2,
      "metadata": {
        "colab": {
          "base_uri": "https://localhost:8080/"
        },
        "id": "KPf8edK2p7Ih",
        "outputId": "6ecc8f5b-ac27-4f9e-8cd9-99dcf93ff6a0"
      },
      "outputs": [
        {
          "output_type": "stream",
          "name": "stdout",
          "text": [
            "Collecting ucimlrepo\n",
            "  Downloading ucimlrepo-0.0.7-py3-none-any.whl.metadata (5.5 kB)\n",
            "Requirement already satisfied: pandas>=1.0.0 in /usr/local/lib/python3.11/dist-packages (from ucimlrepo) (2.2.2)\n",
            "Requirement already satisfied: certifi>=2020.12.5 in /usr/local/lib/python3.11/dist-packages (from ucimlrepo) (2025.4.26)\n",
            "Requirement already satisfied: numpy>=1.23.2 in /usr/local/lib/python3.11/dist-packages (from pandas>=1.0.0->ucimlrepo) (2.0.2)\n",
            "Requirement already satisfied: python-dateutil>=2.8.2 in /usr/local/lib/python3.11/dist-packages (from pandas>=1.0.0->ucimlrepo) (2.9.0.post0)\n",
            "Requirement already satisfied: pytz>=2020.1 in /usr/local/lib/python3.11/dist-packages (from pandas>=1.0.0->ucimlrepo) (2025.2)\n",
            "Requirement already satisfied: tzdata>=2022.7 in /usr/local/lib/python3.11/dist-packages (from pandas>=1.0.0->ucimlrepo) (2025.2)\n",
            "Requirement already satisfied: six>=1.5 in /usr/local/lib/python3.11/dist-packages (from python-dateutil>=2.8.2->pandas>=1.0.0->ucimlrepo) (1.17.0)\n",
            "Downloading ucimlrepo-0.0.7-py3-none-any.whl (8.0 kB)\n",
            "Installing collected packages: ucimlrepo\n",
            "Successfully installed ucimlrepo-0.0.7\n"
          ]
        }
      ],
      "source": [
        "pip install ucimlrepo #install the ucimlrepo package"
      ]
    },
    {
      "cell_type": "code",
      "source": [
        "from ucimlrepo import fetch_ucirepo\n",
        "\n",
        "# fetch dataset\n",
        "census_income = fetch_ucirepo(id=20)\n",
        "\n",
        "# data (as pandas dataframes)\n",
        "X = census_income.data.features\n",
        "y = census_income.data.targets"
      ],
      "metadata": {
        "id": "tJ9gaJ7dqDy6"
      },
      "execution_count": 5,
      "outputs": []
    },
    {
      "cell_type": "code",
      "source": [
        "data = pd.concat([X, y], axis=1)"
      ],
      "metadata": {
        "id": "56j9V1euTMsD"
      },
      "execution_count": 6,
      "outputs": []
    },
    {
      "cell_type": "code",
      "source": [
        "# metadata\n",
        "print(census_income.metadata)\n",
        "\n",
        "# variable information\n",
        "print(census_income.variables) #code extracted from the oroginal dataset to import the dataset into my code"
      ],
      "metadata": {
        "colab": {
          "base_uri": "https://localhost:8080/"
        },
        "id": "2_lXvL4bTVXE",
        "outputId": "c7eec0d7-1e58-49a1-9163-a110f04612f4"
      },
      "execution_count": 7,
      "outputs": [
        {
          "output_type": "stream",
          "name": "stdout",
          "text": [
            "{'uci_id': 20, 'name': 'Census Income', 'repository_url': 'https://archive.ics.uci.edu/dataset/20/census+income', 'data_url': 'https://archive.ics.uci.edu/static/public/20/data.csv', 'abstract': 'Predict whether income exceeds $50K/yr based on census data.  Also known as Adult dataset.', 'area': 'Social Science', 'tasks': ['Classification'], 'characteristics': ['Multivariate'], 'num_instances': 48842, 'num_features': 14, 'feature_types': ['Categorical', 'Integer'], 'demographics': ['Age', 'Income', 'Education Level', 'Other', 'Race', 'Sex'], 'target_col': ['income'], 'index_col': None, 'has_missing_values': 'yes', 'missing_values_symbol': 'NaN', 'year_of_dataset_creation': 1996, 'last_updated': 'Mon Sep 09 2024', 'dataset_doi': '10.24432/C5GP7S', 'creators': ['Ron Kohavi'], 'intro_paper': None, 'additional_info': {'summary': 'Extraction was done by Barry Becker from the 1994 Census database.  A set of reasonably clean records was extracted using the following conditions: ((AAGE>16) && (AGI>100) && (AFNLWGT>1)&& (HRSWK>0))\\r\\n\\r\\nPrediction task is to determine whether a person makes over 50K a year.', 'purpose': None, 'funded_by': None, 'instances_represent': None, 'recommended_data_splits': None, 'sensitive_data': None, 'preprocessing_description': None, 'variable_info': 'Listing of attributes:\\r\\n\\r\\n>50K, <=50K.\\r\\n\\r\\nage: continuous.\\r\\nworkclass: Private, Self-emp-not-inc, Self-emp-inc, Federal-gov, Local-gov, State-gov, Without-pay, Never-worked.\\r\\nfnlwgt: continuous.\\r\\neducation: Bachelors, Some-college, 11th, HS-grad, Prof-school, Assoc-acdm, Assoc-voc, 9th, 7th-8th, 12th, Masters, 1st-4th, 10th, Doctorate, 5th-6th, Preschool.\\r\\neducation-num: continuous.\\r\\nmarital-status: Married-civ-spouse, Divorced, Never-married, Separated, Widowed, Married-spouse-absent, Married-AF-spouse.\\r\\noccupation: Tech-support, Craft-repair, Other-service, Sales, Exec-managerial, Prof-specialty, Handlers-cleaners, Machine-op-inspct, Adm-clerical, Farming-fishing, Transport-moving, Priv-house-serv, Protective-serv, Armed-Forces.\\r\\nrelationship: Wife, Own-child, Husband, Not-in-family, Other-relative, Unmarried.\\r\\nrace: White, Asian-Pac-Islander, Amer-Indian-Eskimo, Other, Black.\\r\\nsex: Female, Male.\\r\\ncapital-gain: continuous.\\r\\ncapital-loss: continuous.\\r\\nhours-per-week: continuous.\\r\\nnative-country: United-States, Cambodia, England, Puerto-Rico, Canada, Germany, Outlying-US(Guam-USVI-etc), India, Japan, Greece, South, China, Cuba, Iran, Honduras, Philippines, Italy, Poland, Jamaica, Vietnam, Mexico, Portugal, Ireland, France, Dominican-Republic, Laos, Ecuador, Taiwan, Haiti, Columbia, Hungary, Guatemala, Nicaragua, Scotland, Thailand, Yugoslavia, El-Salvador, Trinadad&Tobago, Peru, Hong, Holand-Netherlands.', 'citation': None}}\n",
            "              name     role         type      demographic  \\\n",
            "0              age  Feature      Integer              Age   \n",
            "1        workclass  Feature  Categorical           Income   \n",
            "2           fnlwgt  Feature      Integer             None   \n",
            "3        education  Feature  Categorical  Education Level   \n",
            "4    education-num  Feature      Integer  Education Level   \n",
            "5   marital-status  Feature  Categorical            Other   \n",
            "6       occupation  Feature  Categorical            Other   \n",
            "7     relationship  Feature  Categorical            Other   \n",
            "8             race  Feature  Categorical             Race   \n",
            "9              sex  Feature       Binary              Sex   \n",
            "10    capital-gain  Feature      Integer             None   \n",
            "11    capital-loss  Feature      Integer             None   \n",
            "12  hours-per-week  Feature      Integer             None   \n",
            "13  native-country  Feature  Categorical            Other   \n",
            "14          income   Target       Binary           Income   \n",
            "\n",
            "                                          description units missing_values  \n",
            "0                                                 N/A  None             no  \n",
            "1   Private, Self-emp-not-inc, Self-emp-inc, Feder...  None            yes  \n",
            "2                                                None  None             no  \n",
            "3    Bachelors, Some-college, 11th, HS-grad, Prof-...  None             no  \n",
            "4                                                None  None             no  \n",
            "5   Married-civ-spouse, Divorced, Never-married, S...  None             no  \n",
            "6   Tech-support, Craft-repair, Other-service, Sal...  None            yes  \n",
            "7   Wife, Own-child, Husband, Not-in-family, Other...  None             no  \n",
            "8   White, Asian-Pac-Islander, Amer-Indian-Eskimo,...  None             no  \n",
            "9                                       Female, Male.  None             no  \n",
            "10                                               None  None             no  \n",
            "11                                               None  None             no  \n",
            "12                                               None  None             no  \n",
            "13  United-States, Cambodia, England, Puerto-Rico,...  None            yes  \n",
            "14                                       >50K, <=50K.  None             no  \n"
          ]
        }
      ]
    },
    {
      "cell_type": "code",
      "source": [
        "data.info()"
      ],
      "metadata": {
        "colab": {
          "base_uri": "https://localhost:8080/"
        },
        "id": "eDKrWa-_TgTC",
        "outputId": "504ce236-7f68-4668-cf5a-d67f734f116c"
      },
      "execution_count": 8,
      "outputs": [
        {
          "output_type": "stream",
          "name": "stdout",
          "text": [
            "<class 'pandas.core.frame.DataFrame'>\n",
            "RangeIndex: 48842 entries, 0 to 48841\n",
            "Data columns (total 15 columns):\n",
            " #   Column          Non-Null Count  Dtype \n",
            "---  ------          --------------  ----- \n",
            " 0   age             48842 non-null  int64 \n",
            " 1   workclass       47879 non-null  object\n",
            " 2   fnlwgt          48842 non-null  int64 \n",
            " 3   education       48842 non-null  object\n",
            " 4   education-num   48842 non-null  int64 \n",
            " 5   marital-status  48842 non-null  object\n",
            " 6   occupation      47876 non-null  object\n",
            " 7   relationship    48842 non-null  object\n",
            " 8   race            48842 non-null  object\n",
            " 9   sex             48842 non-null  object\n",
            " 10  capital-gain    48842 non-null  int64 \n",
            " 11  capital-loss    48842 non-null  int64 \n",
            " 12  hours-per-week  48842 non-null  int64 \n",
            " 13  native-country  48568 non-null  object\n",
            " 14  income          48842 non-null  object\n",
            "dtypes: int64(6), object(9)\n",
            "memory usage: 5.6+ MB\n"
          ]
        }
      ]
    },
    {
      "cell_type": "code",
      "source": [
        "#since there are some missing values in the dataset, I'll replace ' ?' with NaN\n",
        "data.replace(' ?', pd.NA, inplace=True)\n",
        "\n",
        "#drop rows with missing values\n",
        "data.dropna(inplace=True)\n",
        "\n",
        "#verify no missing values remain\n",
        "print(data.isnull().sum())"
      ],
      "metadata": {
        "colab": {
          "base_uri": "https://localhost:8080/"
        },
        "id": "uEMAJfqOqJsq",
        "outputId": "48d1b193-6a18-4957-bd40-f1dc50ee6ddc"
      },
      "execution_count": 9,
      "outputs": [
        {
          "output_type": "stream",
          "name": "stdout",
          "text": [
            "age               0\n",
            "workclass         0\n",
            "fnlwgt            0\n",
            "education         0\n",
            "education-num     0\n",
            "marital-status    0\n",
            "occupation        0\n",
            "relationship      0\n",
            "race              0\n",
            "sex               0\n",
            "capital-gain      0\n",
            "capital-loss      0\n",
            "hours-per-week    0\n",
            "native-country    0\n",
            "income            0\n",
            "dtype: int64\n"
          ]
        }
      ]
    },
    {
      "cell_type": "code",
      "source": [
        "#drop less relevant columns (e.g., 'fnlwgt' is a sample weight)\n",
        "data.drop('fnlwgt', axis=1, inplace=True)"
      ],
      "metadata": {
        "id": "1VF_t-2dupiT"
      },
      "execution_count": 10,
      "outputs": []
    },
    {
      "cell_type": "code",
      "source": [
        "#remove trailing periods and strip whitespace from all string columns in the DataFrame\n",
        "for col in data.columns:\n",
        "    if data[col].dtype == 'object':\n",
        "        data[col] = data[col].str.strip().str.rstrip('.')\n",
        "\n",
        "#verify cleaning\n",
        "print(data.head())\n",
        "print(data['income'].unique())  #should output ['<=50K', '>50K']"
      ],
      "metadata": {
        "colab": {
          "base_uri": "https://localhost:8080/"
        },
        "id": "UVJxBmkYvkjA",
        "outputId": "fb484f6c-8cc3-4e56-cda2-f9dfd3ce85bb"
      },
      "execution_count": 11,
      "outputs": [
        {
          "output_type": "stream",
          "name": "stdout",
          "text": [
            "   age         workclass  education  education-num      marital-status  \\\n",
            "0   39         State-gov  Bachelors             13       Never-married   \n",
            "1   50  Self-emp-not-inc  Bachelors             13  Married-civ-spouse   \n",
            "2   38           Private    HS-grad              9            Divorced   \n",
            "3   53           Private       11th              7  Married-civ-spouse   \n",
            "4   28           Private  Bachelors             13  Married-civ-spouse   \n",
            "\n",
            "          occupation   relationship   race     sex  capital-gain  \\\n",
            "0       Adm-clerical  Not-in-family  White    Male          2174   \n",
            "1    Exec-managerial        Husband  White    Male             0   \n",
            "2  Handlers-cleaners  Not-in-family  White    Male             0   \n",
            "3  Handlers-cleaners        Husband  Black    Male             0   \n",
            "4     Prof-specialty           Wife  Black  Female             0   \n",
            "\n",
            "   capital-loss  hours-per-week native-country income  \n",
            "0             0              40  United-States  <=50K  \n",
            "1             0              13  United-States  <=50K  \n",
            "2             0              40  United-States  <=50K  \n",
            "3             0              40  United-States  <=50K  \n",
            "4             0              40           Cuba  <=50K  \n",
            "['<=50K' '>50K']\n"
          ]
        }
      ]
    },
    {
      "cell_type": "code",
      "source": [
        "#convert income categories to numerical values (0/1)\n",
        "data['income'] = data['income'].map({'<=50K': 0, '>50K': 1}).astype(int)"
      ],
      "metadata": {
        "id": "O0HK8bccDXCY"
      },
      "execution_count": 12,
      "outputs": []
    },
    {
      "cell_type": "code",
      "source": [
        "print(data['income'].value_counts(), \"\\n\")"
      ],
      "metadata": {
        "colab": {
          "base_uri": "https://localhost:8080/"
        },
        "id": "VQ239ShyUfsz",
        "outputId": "01177be0-e833-4147-cf5c-6b32e00d2804"
      },
      "execution_count": 16,
      "outputs": [
        {
          "output_type": "stream",
          "name": "stdout",
          "text": [
            "income\n",
            "0    36080\n",
            "1    11541\n",
            "Name: count, dtype: int64 \n",
            "\n"
          ]
        }
      ]
    },
    {
      "cell_type": "markdown",
      "source": [
        "# **Dataset Description:**\n",
        "\n",
        "The revised dataset comprises **48,421** adult records drawn from the 1994 U.S. Census 5% Public Use Microdata Sample. Each entry is labeled according to annual income:\n",
        "\n",
        "**Class 0 (≤ $50 K):** 36,080 individuals\n",
        "\n",
        "**Class 1 (> $50 K):** 11,541 individuals\n",
        "\n",
        "In addition to the target label, there are 14 predictor variables capturing a comprehensive socioeconomic profile:\n",
        "\n",
        "**Demographics:** age (17–90), sex, race, native country[link text](https://)\n",
        "\n",
        "**Education:** highest level (e.g. HS‑grad, Bachelors, Doctorate)\n",
        "\n",
        "**Employment:** workclass (Private, Government, Self‑employed, etc.), occupation, hours worked per week (1–99)\n",
        "\n",
        "**Financial indicators:** capital‑gain (0–99,999 USD), capital‑loss (0–4,356 USD)\n",
        "\n",
        "**Family & social:** marital status, relationship status\n",
        "\n",
        "Missing entries (< 1.5% of rows) were removed, and the fnlwgt sample‑weight column was dropped as it does not represent an individual attribute. String values have been cleaned of trailing punctuation and whitespace, and the binary income label is encoded as 0/1 for seamless model integration. This rich mixture of demographic, educational, occupational, and financial features will serve as the basis for our classification models."
      ],
      "metadata": {
        "id": "QSLUH-fsVOgH"
      }
    }
  ]
}